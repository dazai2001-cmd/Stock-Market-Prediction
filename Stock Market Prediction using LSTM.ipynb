{
 "cells": [
  {
   "cell_type": "code",
   "execution_count": 1,
   "metadata": {},
   "outputs": [
    {
     "name": "stdout",
     "output_type": "stream",
     "text": [
      "WARNING:tensorflow:From c:\\Users\\Rahul\\AppData\\Local\\Programs\\Python\\Python311\\Lib\\site-packages\\keras\\src\\losses.py:2976: The name tf.losses.sparse_softmax_cross_entropy is deprecated. Please use tf.compat.v1.losses.sparse_softmax_cross_entropy instead.\n",
      "\n"
     ]
    }
   ],
   "source": [
    "import yfinance as yf\n",
    "import pandas as pd\n",
    "import numpy as np\n",
    "import matplotlib.pyplot as plt\n",
    "import pandas as pd\n",
    "import datetime as dt\n",
    "import numpy as np\n",
    "import tensorflow as tf # This code has been tested with TensorFlow 1.6\n",
    "from sklearn.preprocessing import MinMaxScaler\n",
    "import yfinance as yf\n",
    "import pandas as pd\n",
    "import numpy as np\n",
    "import matplotlib.pyplot as plt\n",
    "from sklearn.preprocessing import MinMaxScaler\n",
    "from tensorflow.keras.models import Sequential\n",
    "from tensorflow.keras.layers import LSTM, Dense, Dropout\n"
   ]
  },
  {
   "cell_type": "code",
   "execution_count": 2,
   "metadata": {},
   "outputs": [
    {
     "data": {
      "text/plain": [
       "yfinance.Ticker object <NVDA>"
      ]
     },
     "execution_count": 2,
     "metadata": {},
     "output_type": "execute_result"
    }
   ],
   "source": [
    "NVDA= yf.Ticker(\"NVDA\")\n",
    "NVDA"
   ]
  },
  {
   "cell_type": "code",
   "execution_count": 3,
   "metadata": {},
   "outputs": [
    {
     "data": {
      "text/html": [
       "<div>\n",
       "<style scoped>\n",
       "    .dataframe tbody tr th:only-of-type {\n",
       "        vertical-align: middle;\n",
       "    }\n",
       "\n",
       "    .dataframe tbody tr th {\n",
       "        vertical-align: top;\n",
       "    }\n",
       "\n",
       "    .dataframe thead th {\n",
       "        text-align: right;\n",
       "    }\n",
       "</style>\n",
       "<table border=\"1\" class=\"dataframe\">\n",
       "  <thead>\n",
       "    <tr style=\"text-align: right;\">\n",
       "      <th></th>\n",
       "      <th>Open</th>\n",
       "      <th>High</th>\n",
       "      <th>Low</th>\n",
       "      <th>Close</th>\n",
       "      <th>Volume</th>\n",
       "      <th>Dividends</th>\n",
       "      <th>Stock Splits</th>\n",
       "    </tr>\n",
       "    <tr>\n",
       "      <th>Date</th>\n",
       "      <th></th>\n",
       "      <th></th>\n",
       "      <th></th>\n",
       "      <th></th>\n",
       "      <th></th>\n",
       "      <th></th>\n",
       "      <th></th>\n",
       "    </tr>\n",
       "  </thead>\n",
       "  <tbody>\n",
       "    <tr>\n",
       "      <th>2023-06-02 00:00:00-04:00</th>\n",
       "      <td>40.080851</td>\n",
       "      <td>40.483689</td>\n",
       "      <td>39.042268</td>\n",
       "      <td>39.311161</td>\n",
       "      <td>482731000</td>\n",
       "      <td>0.000</td>\n",
       "      <td>0.0</td>\n",
       "    </tr>\n",
       "    <tr>\n",
       "      <th>2023-06-05 00:00:00-04:00</th>\n",
       "      <td>38.893328</td>\n",
       "      <td>39.549062</td>\n",
       "      <td>38.691410</td>\n",
       "      <td>39.155224</td>\n",
       "      <td>396094000</td>\n",
       "      <td>0.000</td>\n",
       "      <td>0.0</td>\n",
       "    </tr>\n",
       "    <tr>\n",
       "      <th>2023-06-06 00:00:00-04:00</th>\n",
       "      <td>38.814363</td>\n",
       "      <td>39.144228</td>\n",
       "      <td>38.132635</td>\n",
       "      <td>38.638432</td>\n",
       "      <td>388729000</td>\n",
       "      <td>0.000</td>\n",
       "      <td>0.0</td>\n",
       "    </tr>\n",
       "    <tr>\n",
       "      <th>2023-06-07 00:00:00-04:00</th>\n",
       "      <td>38.903351</td>\n",
       "      <td>39.487176</td>\n",
       "      <td>37.344816</td>\n",
       "      <td>37.463779</td>\n",
       "      <td>511998000</td>\n",
       "      <td>0.004</td>\n",
       "      <td>0.0</td>\n",
       "    </tr>\n",
       "    <tr>\n",
       "      <th>2023-06-08 00:00:00-04:00</th>\n",
       "      <td>37.712710</td>\n",
       "      <td>38.852368</td>\n",
       "      <td>37.493778</td>\n",
       "      <td>38.498474</td>\n",
       "      <td>417772000</td>\n",
       "      <td>0.000</td>\n",
       "      <td>0.0</td>\n",
       "    </tr>\n",
       "    <tr>\n",
       "      <th>...</th>\n",
       "      <td>...</td>\n",
       "      <td>...</td>\n",
       "      <td>...</td>\n",
       "      <td>...</td>\n",
       "      <td>...</td>\n",
       "      <td>...</td>\n",
       "      <td>...</td>\n",
       "    </tr>\n",
       "    <tr>\n",
       "      <th>2024-05-31 00:00:00-04:00</th>\n",
       "      <td>112.510757</td>\n",
       "      <td>112.707747</td>\n",
       "      <td>106.931221</td>\n",
       "      <td>109.624001</td>\n",
       "      <td>613263000</td>\n",
       "      <td>0.000</td>\n",
       "      <td>0.0</td>\n",
       "    </tr>\n",
       "    <tr>\n",
       "      <th>2024-06-03 00:00:00-04:00</th>\n",
       "      <td>113.611670</td>\n",
       "      <td>114.990555</td>\n",
       "      <td>111.993799</td>\n",
       "      <td>114.990555</td>\n",
       "      <td>438392000</td>\n",
       "      <td>0.000</td>\n",
       "      <td>0.0</td>\n",
       "    </tr>\n",
       "    <tr>\n",
       "      <th>2024-06-04 00:00:00-04:00</th>\n",
       "      <td>115.706495</td>\n",
       "      <td>116.590418</td>\n",
       "      <td>114.035627</td>\n",
       "      <td>116.427429</td>\n",
       "      <td>403324000</td>\n",
       "      <td>0.000</td>\n",
       "      <td>0.0</td>\n",
       "    </tr>\n",
       "    <tr>\n",
       "      <th>2024-06-05 00:00:00-04:00</th>\n",
       "      <td>118.361281</td>\n",
       "      <td>122.438941</td>\n",
       "      <td>117.458355</td>\n",
       "      <td>122.429947</td>\n",
       "      <td>528402000</td>\n",
       "      <td>0.000</td>\n",
       "      <td>0.0</td>\n",
       "    </tr>\n",
       "    <tr>\n",
       "      <th>2024-06-06 00:00:00-04:00</th>\n",
       "      <td>124.037805</td>\n",
       "      <td>125.576680</td>\n",
       "      <td>118.310279</td>\n",
       "      <td>120.988060</td>\n",
       "      <td>664696000</td>\n",
       "      <td>0.000</td>\n",
       "      <td>0.0</td>\n",
       "    </tr>\n",
       "  </tbody>\n",
       "</table>\n",
       "<p>255 rows × 7 columns</p>\n",
       "</div>"
      ],
      "text/plain": [
       "                                 Open        High         Low       Close  \\\n",
       "Date                                                                        \n",
       "2023-06-02 00:00:00-04:00   40.080851   40.483689   39.042268   39.311161   \n",
       "2023-06-05 00:00:00-04:00   38.893328   39.549062   38.691410   39.155224   \n",
       "2023-06-06 00:00:00-04:00   38.814363   39.144228   38.132635   38.638432   \n",
       "2023-06-07 00:00:00-04:00   38.903351   39.487176   37.344816   37.463779   \n",
       "2023-06-08 00:00:00-04:00   37.712710   38.852368   37.493778   38.498474   \n",
       "...                               ...         ...         ...         ...   \n",
       "2024-05-31 00:00:00-04:00  112.510757  112.707747  106.931221  109.624001   \n",
       "2024-06-03 00:00:00-04:00  113.611670  114.990555  111.993799  114.990555   \n",
       "2024-06-04 00:00:00-04:00  115.706495  116.590418  114.035627  116.427429   \n",
       "2024-06-05 00:00:00-04:00  118.361281  122.438941  117.458355  122.429947   \n",
       "2024-06-06 00:00:00-04:00  124.037805  125.576680  118.310279  120.988060   \n",
       "\n",
       "                              Volume  Dividends  Stock Splits  \n",
       "Date                                                           \n",
       "2023-06-02 00:00:00-04:00  482731000      0.000           0.0  \n",
       "2023-06-05 00:00:00-04:00  396094000      0.000           0.0  \n",
       "2023-06-06 00:00:00-04:00  388729000      0.000           0.0  \n",
       "2023-06-07 00:00:00-04:00  511998000      0.004           0.0  \n",
       "2023-06-08 00:00:00-04:00  417772000      0.000           0.0  \n",
       "...                              ...        ...           ...  \n",
       "2024-05-31 00:00:00-04:00  613263000      0.000           0.0  \n",
       "2024-06-03 00:00:00-04:00  438392000      0.000           0.0  \n",
       "2024-06-04 00:00:00-04:00  403324000      0.000           0.0  \n",
       "2024-06-05 00:00:00-04:00  528402000      0.000           0.0  \n",
       "2024-06-06 00:00:00-04:00  664696000      0.000           0.0  \n",
       "\n",
       "[255 rows x 7 columns]"
      ]
     },
     "execution_count": 3,
     "metadata": {},
     "output_type": "execute_result"
    }
   ],
   "source": [
    "NVDA_historical = NVDA.history(start=\"2023-06-02\", end=\"2024-06-07\", interval=\"1d\")\n",
    "NVDA_historical"
   ]
  },
  {
   "cell_type": "code",
   "execution_count": 4,
   "metadata": {},
   "outputs": [],
   "source": [
    "df = pd.DataFrame(NVDA_historical)"
   ]
  },
  {
   "cell_type": "code",
   "execution_count": 5,
   "metadata": {},
   "outputs": [],
   "source": [
    "df.drop('Dividends', axis = 1, inplace=True)"
   ]
  },
  {
   "cell_type": "code",
   "execution_count": 6,
   "metadata": {},
   "outputs": [],
   "source": [
    "df.drop('Stock Splits', axis = 1, inplace=True)"
   ]
  },
  {
   "cell_type": "code",
   "execution_count": 7,
   "metadata": {},
   "outputs": [
    {
     "data": {
      "text/html": [
       "<div>\n",
       "<style scoped>\n",
       "    .dataframe tbody tr th:only-of-type {\n",
       "        vertical-align: middle;\n",
       "    }\n",
       "\n",
       "    .dataframe tbody tr th {\n",
       "        vertical-align: top;\n",
       "    }\n",
       "\n",
       "    .dataframe thead th {\n",
       "        text-align: right;\n",
       "    }\n",
       "</style>\n",
       "<table border=\"1\" class=\"dataframe\">\n",
       "  <thead>\n",
       "    <tr style=\"text-align: right;\">\n",
       "      <th></th>\n",
       "      <th>Open</th>\n",
       "      <th>High</th>\n",
       "      <th>Low</th>\n",
       "      <th>Close</th>\n",
       "      <th>Volume</th>\n",
       "    </tr>\n",
       "    <tr>\n",
       "      <th>Date</th>\n",
       "      <th></th>\n",
       "      <th></th>\n",
       "      <th></th>\n",
       "      <th></th>\n",
       "      <th></th>\n",
       "    </tr>\n",
       "  </thead>\n",
       "  <tbody>\n",
       "    <tr>\n",
       "      <th>2023-06-02 00:00:00-04:00</th>\n",
       "      <td>40.080851</td>\n",
       "      <td>40.483689</td>\n",
       "      <td>39.042268</td>\n",
       "      <td>39.311161</td>\n",
       "      <td>482731000</td>\n",
       "    </tr>\n",
       "    <tr>\n",
       "      <th>2023-06-05 00:00:00-04:00</th>\n",
       "      <td>38.893328</td>\n",
       "      <td>39.549062</td>\n",
       "      <td>38.691410</td>\n",
       "      <td>39.155224</td>\n",
       "      <td>396094000</td>\n",
       "    </tr>\n",
       "    <tr>\n",
       "      <th>2023-06-06 00:00:00-04:00</th>\n",
       "      <td>38.814363</td>\n",
       "      <td>39.144228</td>\n",
       "      <td>38.132635</td>\n",
       "      <td>38.638432</td>\n",
       "      <td>388729000</td>\n",
       "    </tr>\n",
       "    <tr>\n",
       "      <th>2023-06-07 00:00:00-04:00</th>\n",
       "      <td>38.903351</td>\n",
       "      <td>39.487176</td>\n",
       "      <td>37.344816</td>\n",
       "      <td>37.463779</td>\n",
       "      <td>511998000</td>\n",
       "    </tr>\n",
       "    <tr>\n",
       "      <th>2023-06-08 00:00:00-04:00</th>\n",
       "      <td>37.712710</td>\n",
       "      <td>38.852368</td>\n",
       "      <td>37.493778</td>\n",
       "      <td>38.498474</td>\n",
       "      <td>417772000</td>\n",
       "    </tr>\n",
       "  </tbody>\n",
       "</table>\n",
       "</div>"
      ],
      "text/plain": [
       "                                Open       High        Low      Close  \\\n",
       "Date                                                                    \n",
       "2023-06-02 00:00:00-04:00  40.080851  40.483689  39.042268  39.311161   \n",
       "2023-06-05 00:00:00-04:00  38.893328  39.549062  38.691410  39.155224   \n",
       "2023-06-06 00:00:00-04:00  38.814363  39.144228  38.132635  38.638432   \n",
       "2023-06-07 00:00:00-04:00  38.903351  39.487176  37.344816  37.463779   \n",
       "2023-06-08 00:00:00-04:00  37.712710  38.852368  37.493778  38.498474   \n",
       "\n",
       "                              Volume  \n",
       "Date                                  \n",
       "2023-06-02 00:00:00-04:00  482731000  \n",
       "2023-06-05 00:00:00-04:00  396094000  \n",
       "2023-06-06 00:00:00-04:00  388729000  \n",
       "2023-06-07 00:00:00-04:00  511998000  \n",
       "2023-06-08 00:00:00-04:00  417772000  "
      ]
     },
     "execution_count": 7,
     "metadata": {},
     "output_type": "execute_result"
    }
   ],
   "source": [
    "df.head()"
   ]
  },
  {
   "cell_type": "code",
   "execution_count": 8,
   "metadata": {},
   "outputs": [
    {
     "name": "stdout",
     "output_type": "stream",
     "text": [
      "Index(['Date', 'Open', 'High', 'Low', 'Close', 'Volume'], dtype='object')\n",
      "                       Date       Open       High        Low      Close  \\\n",
      "0 2023-06-02 00:00:00-04:00  40.080851  40.483689  39.042268  39.311161   \n",
      "1 2023-06-05 00:00:00-04:00  38.893328  39.549062  38.691410  39.155224   \n",
      "2 2023-06-06 00:00:00-04:00  38.814363  39.144228  38.132635  38.638432   \n",
      "3 2023-06-07 00:00:00-04:00  38.903351  39.487176  37.344816  37.463779   \n",
      "4 2023-06-08 00:00:00-04:00  37.712710  38.852368  37.493778  38.498474   \n",
      "\n",
      "      Volume   Only_Date  \n",
      "0  482731000  2023-06-02  \n",
      "1  396094000  2023-06-05  \n",
      "2  388729000  2023-06-06  \n",
      "3  511998000  2023-06-07  \n",
      "4  417772000  2023-06-08  \n"
     ]
    }
   ],
   "source": [
    "# Reset index to convert the datetime index to a column\n",
    "df = df.reset_index()\n",
    "\n",
    "# Print column names to verify\n",
    "print(df.columns)\n",
    "\n",
    "# Convert the 'Date' column to datetime objects\n",
    "df['Date'] = pd.to_datetime(df['Date'])\n",
    "\n",
    "# Extract only the date part\n",
    "df['Only_Date'] = df['Date'].dt.date\n",
    "\n",
    "# Print the resulting DataFrame\n",
    "print(df.head())\n"
   ]
  },
  {
   "cell_type": "code",
   "execution_count": 9,
   "metadata": {},
   "outputs": [
    {
     "data": {
      "image/png": "[encoded data removed]",
      "text/plain": [
       "<Figure size 1200x600 with 1 Axes>"
      ]
     },
     "metadata": {},
     "output_type": "display_data"
    }
   ],
   "source": [
    "df['Average_Price'] = (df['High'] + df['Low']) / 2\n",
    "plt.figure(figsize=(12, 6))\n",
    "plt.plot(df['Only_Date'], df['Average_Price'], marker='o', linestyle='-', color='b')\n",
    "plt.xlabel('Date')\n",
    "plt.ylabel('Average Price')\n",
    "plt.grid(True)\n",
    "plt.xticks(rotation=45)\n",
    "plt.tight_layout()\n",
    "plt.show()"
   ]
  },
  {
   "cell_type": "code",
   "execution_count": 10,
   "metadata": {},
   "outputs": [],
   "source": [
    "data = df[['Date', 'Average_Price']].set_index('Date')\n",
    "data = data.values\n",
    "scaler = MinMaxScaler(feature_range=(0, 1))\n",
    "scaled_data = scaler.fit_transform(data)"
   ]
  },
  {
   "cell_type": "code",
   "execution_count": 11,
   "metadata": {},
   "outputs": [],
   "source": [
    "train_size = int(len(scaled_data) * 0.8)\n",
    "test_size = len(scaled_data) - train_size\n",
    "train, test = scaled_data[0:train_size,:], scaled_data[train_size:len(scaled_data),:]\n"
   ]
  },
  {
   "cell_type": "code",
   "execution_count": 12,
   "metadata": {},
   "outputs": [],
   "source": [
    "def create_dataset(dataset, look_back=1):\n",
    "    X, Y = [], []  # Initialize empty lists for inputs and outputs\n",
    "    for i in range(len(dataset) - look_back):\n",
    "        a = dataset[i:(i + look_back), 0]  # Create an input sequence of length `look_back`\n",
    "        X.append(a)  # Append the input sequence to X\n",
    "        Y.append(dataset[i + look_back, 0])  # Append the corresponding output value to Y\n",
    "    return np.array(X), np.array(Y)  # Convert lists to numpy arrays and return"
   ]
  },
  {
   "cell_type": "code",
   "execution_count": 13,
   "metadata": {},
   "outputs": [],
   "source": [
    "look_back = 1\n",
    "trainX, trainY = create_dataset(train, look_back)\n",
    "testX, testY = create_dataset(test, look_back)\n",
    "trainX = np.reshape(trainX, (trainX.shape[0], 1, trainX.shape[1]))\n",
    "testX = np.reshape(testX, (testX.shape[0], 1, testX.shape[1]))\n"
   ]
  },
  {
   "cell_type": "code",
   "execution_count": 14,
   "metadata": {},
   "outputs": [
    {
     "name": "stdout",
     "output_type": "stream",
     "text": [
      "WARNING:tensorflow:From c:\\Users\\Rahul\\AppData\\Local\\Programs\\Python\\Python311\\Lib\\site-packages\\keras\\src\\backend.py:873: The name tf.get_default_graph is deprecated. Please use tf.compat.v1.get_default_graph instead.\n",
      "\n",
      "WARNING:tensorflow:From c:\\Users\\Rahul\\AppData\\Local\\Programs\\Python\\Python311\\Lib\\site-packages\\keras\\src\\optimizers\\__init__.py:309: The name tf.train.Optimizer is deprecated. Please use tf.compat.v1.train.Optimizer instead.\n",
      "\n"
     ]
    }
   ],
   "source": [
    "model = Sequential()\n",
    "model.add(LSTM(50, input_shape=(1, look_back)))\n",
    "model.add(Dense(1))\n",
    "model.compile(loss='mean_squared_error', optimizer='adam')\n"
   ]
  },
  {
   "cell_type": "code",
   "execution_count": 15,
   "metadata": {},
   "outputs": [
    {
     "name": "stdout",
     "output_type": "stream",
     "text": [
      "Epoch 1/100\n",
      "WARNING:tensorflow:From c:\\Users\\Rahul\\AppData\\Local\\Programs\\Python\\Python311\\Lib\\site-packages\\keras\\src\\utils\\tf_utils.py:492: The name tf.ragged.RaggedTensorValue is deprecated. Please use tf.compat.v1.ragged.RaggedTensorValue instead.\n",
      "\n",
      "203/203 - 1s - loss: 0.0219 - 1s/epoch - 7ms/step\n",
      "Epoch 2/100\n",
      "203/203 - 0s - loss: 0.0091 - 208ms/epoch - 1ms/step\n",
      "Epoch 3/100\n",
      "203/203 - 0s - loss: 0.0026 - 208ms/epoch - 1ms/step\n",
      "Epoch 4/100\n",
      "203/203 - 0s - loss: 4.9463e-04 - 202ms/epoch - 997us/step\n",
      "Epoch 5/100\n",
      "203/203 - 0s - loss: 3.1683e-04 - 211ms/epoch - 1ms/step\n",
      "Epoch 6/100\n",
      "203/203 - 0s - loss: 3.0922e-04 - 215ms/epoch - 1ms/step\n",
      "Epoch 7/100\n",
      "203/203 - 0s - loss: 3.2699e-04 - 224ms/epoch - 1ms/step\n",
      "Epoch 8/100\n",
      "203/203 - 0s - loss: 3.2509e-04 - 220ms/epoch - 1ms/step\n",
      "Epoch 9/100\n",
      "203/203 - 0s - loss: 3.3505e-04 - 222ms/epoch - 1ms/step\n",
      "Epoch 10/100\n",
      "203/203 - 0s - loss: 3.2161e-04 - 219ms/epoch - 1ms/step\n",
      "Epoch 11/100\n",
      "203/203 - 0s - loss: 3.2136e-04 - 221ms/epoch - 1ms/step\n",
      "Epoch 12/100\n",
      "203/203 - 0s - loss: 3.1546e-04 - 217ms/epoch - 1ms/step\n",
      "Epoch 13/100\n",
      "203/203 - 0s - loss: 3.4427e-04 - 207ms/epoch - 1ms/step\n",
      "Epoch 14/100\n",
      "203/203 - 0s - loss: 3.4926e-04 - 218ms/epoch - 1ms/step\n",
      "Epoch 15/100\n",
      "203/203 - 0s - loss: 3.4725e-04 - 207ms/epoch - 1ms/step\n",
      "Epoch 16/100\n",
      "203/203 - 0s - loss: 3.5128e-04 - 213ms/epoch - 1ms/step\n",
      "Epoch 17/100\n",
      "203/203 - 0s - loss: 3.1319e-04 - 206ms/epoch - 1ms/step\n",
      "Epoch 18/100\n",
      "203/203 - 0s - loss: 3.4070e-04 - 207ms/epoch - 1ms/step\n",
      "Epoch 19/100\n",
      "203/203 - 0s - loss: 3.6637e-04 - 211ms/epoch - 1ms/step\n",
      "Epoch 20/100\n",
      "203/203 - 0s - loss: 3.5313e-04 - 204ms/epoch - 1ms/step\n",
      "Epoch 21/100\n",
      "203/203 - 0s - loss: 3.3843e-04 - 204ms/epoch - 1ms/step\n",
      "Epoch 22/100\n",
      "203/203 - 0s - loss: 3.1170e-04 - 205ms/epoch - 1ms/step\n",
      "Epoch 23/100\n",
      "203/203 - 0s - loss: 3.2230e-04 - 215ms/epoch - 1ms/step\n",
      "Epoch 24/100\n",
      "203/203 - 0s - loss: 3.3750e-04 - 200ms/epoch - 986us/step\n",
      "Epoch 25/100\n",
      "203/203 - 0s - loss: 3.0459e-04 - 204ms/epoch - 1ms/step\n",
      "Epoch 26/100\n",
      "203/203 - 0s - loss: 3.0599e-04 - 204ms/epoch - 1ms/step\n",
      "Epoch 27/100\n",
      "203/203 - 0s - loss: 3.3891e-04 - 205ms/epoch - 1ms/step\n",
      "Epoch 28/100\n",
      "203/203 - 0s - loss: 3.5138e-04 - 207ms/epoch - 1ms/step\n",
      "Epoch 29/100\n",
      "203/203 - 0s - loss: 3.5990e-04 - 205ms/epoch - 1ms/step\n",
      "Epoch 30/100\n",
      "203/203 - 0s - loss: 3.4478e-04 - 213ms/epoch - 1ms/step\n",
      "Epoch 31/100\n",
      "203/203 - 0s - loss: 3.3361e-04 - 207ms/epoch - 1ms/step\n",
      "Epoch 32/100\n",
      "203/203 - 0s - loss: 3.3853e-04 - 203ms/epoch - 999us/step\n",
      "Epoch 33/100\n",
      "203/203 - 0s - loss: 3.4154e-04 - 227ms/epoch - 1ms/step\n",
      "Epoch 34/100\n",
      "203/203 - 0s - loss: 3.3232e-04 - 207ms/epoch - 1ms/step\n",
      "Epoch 35/100\n",
      "203/203 - 0s - loss: 3.0158e-04 - 205ms/epoch - 1ms/step\n",
      "Epoch 36/100\n",
      "203/203 - 0s - loss: 3.1677e-04 - 213ms/epoch - 1ms/step\n",
      "Epoch 37/100\n",
      "203/203 - 0s - loss: 3.1050e-04 - 207ms/epoch - 1ms/step\n",
      "Epoch 38/100\n",
      "203/203 - 0s - loss: 3.2549e-04 - 224ms/epoch - 1ms/step\n",
      "Epoch 39/100\n",
      "203/203 - 0s - loss: 3.0959e-04 - 199ms/epoch - 980us/step\n",
      "Epoch 40/100\n",
      "203/203 - 0s - loss: 3.3589e-04 - 204ms/epoch - 1ms/step\n",
      "Epoch 41/100\n",
      "203/203 - 0s - loss: 3.3553e-04 - 205ms/epoch - 1ms/step\n",
      "Epoch 42/100\n",
      "203/203 - 0s - loss: 3.5414e-04 - 203ms/epoch - 1000us/step\n",
      "Epoch 43/100\n",
      "203/203 - 0s - loss: 3.1401e-04 - 200ms/epoch - 986us/step\n",
      "Epoch 44/100\n",
      "203/203 - 0s - loss: 3.1321e-04 - 195ms/epoch - 959us/step\n",
      "Epoch 45/100\n",
      "203/203 - 0s - loss: 3.0107e-04 - 198ms/epoch - 975us/step\n",
      "Epoch 46/100\n",
      "203/203 - 0s - loss: 3.4820e-04 - 202ms/epoch - 994us/step\n",
      "Epoch 47/100\n",
      "203/203 - 0s - loss: 3.0836e-04 - 198ms/epoch - 976us/step\n",
      "Epoch 48/100\n",
      "203/203 - 0s - loss: 3.2509e-04 - 198ms/epoch - 976us/step\n",
      "Epoch 49/100\n",
      "203/203 - 0s - loss: 3.2520e-04 - 198ms/epoch - 976us/step\n",
      "Epoch 50/100\n",
      "203/203 - 0s - loss: 3.4588e-04 - 200ms/epoch - 985us/step\n",
      "Epoch 51/100\n",
      "203/203 - 0s - loss: 3.2213e-04 - 201ms/epoch - 990us/step\n",
      "Epoch 52/100\n",
      "203/203 - 0s - loss: 3.4548e-04 - 202ms/epoch - 993us/step\n",
      "Epoch 53/100\n",
      "203/203 - 0s - loss: 3.0561e-04 - 196ms/epoch - 966us/step\n",
      "Epoch 54/100\n",
      "203/203 - 0s - loss: 3.2027e-04 - 200ms/epoch - 983us/step\n",
      "Epoch 55/100\n",
      "203/203 - 0s - loss: 3.1379e-04 - 198ms/epoch - 978us/step\n",
      "Epoch 56/100\n",
      "203/203 - 0s - loss: 3.3088e-04 - 204ms/epoch - 1ms/step\n",
      "Epoch 57/100\n",
      "203/203 - 0s - loss: 3.2981e-04 - 254ms/epoch - 1ms/step\n",
      "Epoch 58/100\n",
      "203/203 - 0s - loss: 3.5515e-04 - 209ms/epoch - 1ms/step\n",
      "Epoch 59/100\n",
      "203/203 - 0s - loss: 3.5759e-04 - 204ms/epoch - 1ms/step\n",
      "Epoch 60/100\n",
      "203/203 - 0s - loss: 3.3092e-04 - 227ms/epoch - 1ms/step\n",
      "Epoch 61/100\n",
      "203/203 - 0s - loss: 3.0475e-04 - 194ms/epoch - 955us/step\n",
      "Epoch 62/100\n",
      "203/203 - 0s - loss: 3.2938e-04 - 198ms/epoch - 973us/step\n",
      "Epoch 63/100\n",
      "203/203 - 0s - loss: 3.0817e-04 - 220ms/epoch - 1ms/step\n",
      "Epoch 64/100\n",
      "203/203 - 0s - loss: 3.2024e-04 - 223ms/epoch - 1ms/step\n",
      "Epoch 65/100\n",
      "203/203 - 0s - loss: 3.5340e-04 - 220ms/epoch - 1ms/step\n",
      "Epoch 66/100\n",
      "203/203 - 0s - loss: 2.7583e-04 - 196ms/epoch - 965us/step\n",
      "Epoch 67/100\n",
      "203/203 - 0s - loss: 3.0953e-04 - 198ms/epoch - 977us/step\n",
      "Epoch 68/100\n",
      "203/203 - 0s - loss: 3.2957e-04 - 196ms/epoch - 964us/step\n",
      "Epoch 69/100\n",
      "203/203 - 0s - loss: 3.1275e-04 - 244ms/epoch - 1ms/step\n",
      "Epoch 70/100\n",
      "203/203 - 0s - loss: 3.2941e-04 - 208ms/epoch - 1ms/step\n",
      "Epoch 71/100\n",
      "203/203 - 0s - loss: 3.1593e-04 - 216ms/epoch - 1ms/step\n",
      "Epoch 72/100\n",
      "203/203 - 0s - loss: 3.0447e-04 - 227ms/epoch - 1ms/step\n",
      "Epoch 73/100\n",
      "203/203 - 0s - loss: 3.0919e-04 - 204ms/epoch - 1ms/step\n",
      "Epoch 74/100\n",
      "203/203 - 0s - loss: 3.2441e-04 - 205ms/epoch - 1ms/step\n",
      "Epoch 75/100\n",
      "203/203 - 0s - loss: 3.2089e-04 - 210ms/epoch - 1ms/step\n",
      "Epoch 76/100\n",
      "203/203 - 0s - loss: 3.2123e-04 - 202ms/epoch - 997us/step\n",
      "Epoch 77/100\n",
      "203/203 - 0s - loss: 3.1485e-04 - 201ms/epoch - 989us/step\n",
      "Epoch 78/100\n",
      "203/203 - 0s - loss: 3.0569e-04 - 208ms/epoch - 1ms/step\n",
      "Epoch 79/100\n",
      "203/203 - 0s - loss: 3.1151e-04 - 223ms/epoch - 1ms/step\n",
      "Epoch 80/100\n",
      "203/203 - 0s - loss: 3.2339e-04 - 201ms/epoch - 990us/step\n",
      "Epoch 81/100\n",
      "203/203 - 0s - loss: 2.9957e-04 - 201ms/epoch - 993us/step\n",
      "Epoch 82/100\n",
      "203/203 - 0s - loss: 3.0733e-04 - 202ms/epoch - 993us/step\n",
      "Epoch 83/100\n",
      "203/203 - 0s - loss: 3.0324e-04 - 202ms/epoch - 996us/step\n",
      "Epoch 84/100\n",
      "203/203 - 0s - loss: 3.6094e-04 - 205ms/epoch - 1ms/step\n",
      "Epoch 85/100\n",
      "203/203 - 0s - loss: 3.2429e-04 - 201ms/epoch - 989us/step\n",
      "Epoch 86/100\n",
      "203/203 - 0s - loss: 3.4583e-04 - 203ms/epoch - 1000us/step\n",
      "Epoch 87/100\n",
      "203/203 - 0s - loss: 3.3795e-04 - 200ms/epoch - 985us/step\n",
      "Epoch 88/100\n",
      "203/203 - 0s - loss: 3.0631e-04 - 204ms/epoch - 1ms/step\n",
      "Epoch 89/100\n",
      "203/203 - 0s - loss: 3.0008e-04 - 204ms/epoch - 1ms/step\n",
      "Epoch 90/100\n",
      "203/203 - 0s - loss: 3.1121e-04 - 201ms/epoch - 991us/step\n",
      "Epoch 91/100\n",
      "203/203 - 0s - loss: 3.2239e-04 - 202ms/epoch - 996us/step\n",
      "Epoch 92/100\n",
      "203/203 - 0s - loss: 3.2665e-04 - 204ms/epoch - 1ms/step\n",
      "Epoch 93/100\n",
      "203/203 - 0s - loss: 3.0478e-04 - 204ms/epoch - 1ms/step\n",
      "Epoch 94/100\n",
      "203/203 - 0s - loss: 3.1477e-04 - 204ms/epoch - 1ms/step\n",
      "Epoch 95/100\n",
      "203/203 - 0s - loss: 3.0603e-04 - 200ms/epoch - 988us/step\n",
      "Epoch 96/100\n",
      "203/203 - 0s - loss: 3.1598e-04 - 199ms/epoch - 982us/step\n",
      "Epoch 97/100\n",
      "203/203 - 0s - loss: 3.0527e-04 - 196ms/epoch - 965us/step\n",
      "Epoch 98/100\n",
      "203/203 - 0s - loss: 2.9307e-04 - 200ms/epoch - 985us/step\n",
      "Epoch 99/100\n",
      "203/203 - 0s - loss: 3.1951e-04 - 201ms/epoch - 990us/step\n",
      "Epoch 100/100\n",
      "203/203 - 0s - loss: 3.1962e-04 - 200ms/epoch - 986us/step\n"
     ]
    },
    {
     "data": {
      "text/plain": [
       "<keras.src.callbacks.History at 0x185d9a8ffd0>"
      ]
     },
     "execution_count": 15,
     "metadata": {},
     "output_type": "execute_result"
    }
   ],
   "source": [
    "model.fit(trainX, trainY, epochs=100, batch_size=1, verbose=2)\n"
   ]
  },
  {
   "cell_type": "code",
   "execution_count": 16,
   "metadata": {},
   "outputs": [
    {
     "name": "stdout",
     "output_type": "stream",
     "text": [
      "7/7 [==============================] - 0s 1ms/step\n",
      "2/2 [==============================] - 0s 2ms/step\n"
     ]
    }
   ],
   "source": [
    "trainPredict = model.predict(trainX)\n",
    "testPredict = model.predict(testX)"
   ]
  },
  {
   "cell_type": "code",
   "execution_count": 17,
   "metadata": {},
   "outputs": [],
   "source": [
    "trainPredict = scaler.inverse_transform(trainPredict)\n",
    "trainY = scaler.inverse_transform([trainY])\n",
    "testPredict = scaler.inverse_transform(testPredict)\n",
    "testY = scaler.inverse_transform([testY])"
   ]
  },
  {
   "cell_type": "code",
   "execution_count": 18,
   "metadata": {},
   "outputs": [
    {
     "name": "stdout",
     "output_type": "stream",
     "text": [
      "Train Score: 1.66 RMSE\n",
      "Test Score: 3.31 RMSE\n"
     ]
    }
   ],
   "source": [
    "trainScore = np.sqrt(np.mean((trainPredict[:,0] - trainY[0])**2))\n",
    "print(f'Train Score: {trainScore:.2f} RMSE')\n",
    "testScore = np.sqrt(np.mean((testPredict[:,0] - testY[0])**2))\n",
    "print(f'Test Score: {testScore:.2f} RMSE')\n"
   ]
  },
  {
   "cell_type": "code",
   "execution_count": 19,
   "metadata": {},
   "outputs": [
    {
     "name": "stdout",
     "output_type": "stream",
     "text": [
      "trainPredict shape: (203, 1)\n",
      "testPredict shape: (50, 1)\n",
      "scaled_data shape: (255, 1)\n"
     ]
    },
    {
     "data": {
      "image/png": "[encoded data removed]",
      "text/plain": [
       "<Figure size 1200x600 with 1 Axes>"
      ]
     },
     "metadata": {},
     "output_type": "display_data"
    }
   ],
   "source": [
    "# Print shapes for debugging\n",
    "print(f\"trainPredict shape: {trainPredict.shape}\")\n",
    "print(f\"testPredict shape: {testPredict.shape}\")\n",
    "print(f\"scaled_data shape: {scaled_data.shape}\")\n",
    "\n",
    "# Shift train predictions for plotting\n",
    "trainPredictPlot = np.empty_like(scaled_data)\n",
    "trainPredictPlot[:, :] = np.nan\n",
    "trainPredictPlot[look_back:len(trainPredict) + look_back, :] = trainPredict\n",
    "\n",
    "# Shift test predictions for plotting\n",
    "testPredictPlot = np.empty_like(scaled_data)\n",
    "testPredictPlot[:, :] = np.nan\n",
    "testPredictPlot[len(trainPredict) + (look_back * 2):len(scaled_data), :] = testPredict\n",
    "\n",
    "# Plot baseline and predictions\n",
    "plt.figure(figsize=(12, 6))\n",
    "plt.plot(scaler.inverse_transform(scaled_data), label='True Data')\n",
    "plt.plot(trainPredictPlot, label='Train Predict')\n",
    "plt.plot(testPredictPlot, label='Test Predict')\n",
    "plt.title(f'LSTM Model Predictions for {NVDA}')\n",
    "plt.xlabel('Time')\n",
    "plt.ylabel('Average Price')\n",
    "plt.legend()\n",
    "plt.show()"
   ]
  },
  {
   "cell_type": "code",
   "execution_count": null,
   "metadata": {},
   "outputs": [],
   "source": []
  }
 ],
 "metadata": {
  "kernelspec": {
   "display_name": "Python 3",
   "language": "python",
   "name": "python3"
  },
  "language_info": {
   "codemirror_mode": {
    "name": "ipython",
    "version": 3
   },
   "file_extension": ".py",
   "mimetype": "text/x-python",
   "name": "python",
   "nbconvert_exporter": "python",
   "pygments_lexer": "ipython3",
   "version": "3.11.5"
  }
 },
 "nbformat": 4,
 "nbformat_minor": 2
}
